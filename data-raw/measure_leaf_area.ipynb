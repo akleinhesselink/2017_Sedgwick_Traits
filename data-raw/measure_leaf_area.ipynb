{
 "cells": [
  {
   "cell_type": "code",
   "execution_count": 1,
   "metadata": {},
   "outputs": [],
   "source": [
    "import numpy as np\n",
    "import matplotlib.pylab as plt\n",
    "import matplotlib.image as mpimg\n",
    "from skimage.color import rgb2gray\n",
    "from skimage.filters import threshold_otsu\n",
    "from skimage.segmentation import clear_border\n",
    "from scipy import ndimage as ndi\n",
    "import glob\n",
    "from os import path \n",
    "import pandas as pd \n"
   ]
  },
  {
   "cell_type": "code",
   "execution_count": 2,
   "metadata": {},
   "outputs": [],
   "source": [
    "px_per_cm2 = 55800.1246202\n",
    "min_size = 5000\n",
    "topcrop = 200\n",
    "botcrop = 10 \n",
    "lcrop = 10\n",
    "rcrop = 100"
   ]
  },
  {
   "cell_type": "code",
   "execution_count": 3,
   "metadata": {},
   "outputs": [],
   "source": [
    "def find_leaves( original, min_size): \n",
    "    \n",
    "    gray = rgb2gray(original)\n",
    "    thresh = threshold_otsu(gray)\n",
    "    binary = gray < thresh\n",
    "    test, _ = ndi.label(binary)\n",
    "    objs, count = np.unique(test, return_counts= True)\n",
    "    large_index = count > min_size  \n",
    "    objs = objs[large_index]\n",
    "    count = count[large_index]\n",
    "    objs = objs[np.argsort( count)[::-1 ]]\n",
    "    leaf_index = objs[1:] # cut background object \n",
    "    leaf = np.isin( test, leaf_index )\n",
    " \n",
    "    return( leaf )\n",
    "    \n",
    "def custom_crop(original, topcrop, botcrop, lcrop, rcrop ):\n",
    "    \n",
    "    or_shape = np.int_( original.shape)\n",
    "    cropped = original[ topcrop:(or_shape[0] - botcrop), lcrop:(or_shape[1]-rcrop)]\n",
    "    \n",
    "    return(cropped)       \n",
    "\n",
    "def plot_leaf_area(file_name, binary_img, leaf_area):\n",
    "    \n",
    "    fig, axes = plt.subplots(1, 2, figsize=(10,10))\n",
    "    ax = axes.ravel()\n",
    "    ax[0].imshow(mpimg.imread(file_name), cmap = plt.cm.gray)\n",
    "    ax[0].set_title(file_name)\n",
    "    ax[1].imshow(binary_img, cmap=plt.cm.binary)\n",
    "    ax[1].set_title( \"Leaf area: {:.2f} cm\\N{SUPERSCRIPT TWO}\".format(leaf_area)  )\n",
    "    fig.tight_layout()\n",
    "    plt.savefig( path.splitext( path.basename( file_name))[0] + \"_results.jpg\", dpi = 150)\n",
    "    plt.close()\n"
   ]
  },
  {
   "cell_type": "code",
   "execution_count": 4,
   "metadata": {},
   "outputs": [],
   "source": [
    "img_files = glob.glob(\"STME_*.jpeg\")\n",
    "img_files.sort()"
   ]
  },
  {
   "cell_type": "code",
   "execution_count": 5,
   "metadata": {},
   "outputs": [],
   "source": [
    "leaf_area = list()\n",
    "binary_imgs = list()"
   ]
  },
  {
   "cell_type": "code",
   "execution_count": 6,
   "metadata": {},
   "outputs": [],
   "source": [
    "for i,f in enumerate( img_files ) : \n",
    "    img = mpimg.imread(f)\n",
    "    cropped = custom_crop(img, topcrop, botcrop, lcrop, rcrop)\n",
    "    lf = clear_border( find_leaves(cropped, min_size) )\n",
    "    binary_imgs.append(lf)\n",
    "    val, counts = np.unique(lf, return_counts = True)\n",
    "    leaf_area.append( counts[1]/px_per_cm2 )\n",
    "    plot_leaf_area(f, binary_imgs[i], leaf_area[i])"
   ]
  },
  {
   "cell_type": "code",
   "execution_count": 7,
   "metadata": {},
   "outputs": [],
   "source": [
    "d = {'Slice': [path.splitext(f)[0] for f in img_files]}\n",
    "my_dat = pd.DataFrame(data = d)\n",
    "my_dat['Count'] = ''\n",
    "my_dat['Total Area'] = leaf_area\n",
    "my_dat['Average Size'] = ''\n",
    "my_dat['%Area'] = ''\n",
    "my_dat['Mean'] = ''"
   ]
  },
  {
   "cell_type": "code",
   "execution_count": 8,
   "metadata": {},
   "outputs": [],
   "source": [
    "my_dat.to_csv('STME_leaf_area.csv', index= False)"
   ]
  }
 ],
 "metadata": {
  "kernelspec": {
   "display_name": "Python 3",
   "language": "python",
   "name": "python3"
  },
  "language_info": {
   "codemirror_mode": {
    "name": "ipython",
    "version": 3
   },
   "file_extension": ".py",
   "mimetype": "text/x-python",
   "name": "python",
   "nbconvert_exporter": "python",
   "pygments_lexer": "ipython3",
   "version": "3.7.3"
  }
 },
 "nbformat": 4,
 "nbformat_minor": 2
}
